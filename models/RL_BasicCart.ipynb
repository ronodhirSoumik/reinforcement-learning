{
  "nbformat": 4,
  "nbformat_minor": 0,
  "metadata": {
    "colab": {
      "name": "RL_BasicCart.ipynb",
      "provenance": [],
      "collapsed_sections": []
    },
    "kernelspec": {
      "name": "python3",
      "display_name": "Python 3"
    }
  },
  "cells": [
    {
      "cell_type": "code",
      "metadata": {
        "id": "CusPmhx059aq",
        "colab_type": "code",
        "colab": {
          "base_uri": "https://localhost:8080/",
          "height": 827
        },
        "outputId": "645efaf7-7463-4476-9ff5-304d32ac227b"
      },
      "source": [
        "!pip install gym\n",
        "!apt-get install python-opengl -y\n",
        "!apt install xvfb -y"
      ],
      "execution_count": 1,
      "outputs": [
        {
          "output_type": "stream",
          "text": [
            "Requirement already satisfied: gym in /usr/local/lib/python3.6/dist-packages (0.17.2)\n",
            "Requirement already satisfied: numpy>=1.10.4 in /usr/local/lib/python3.6/dist-packages (from gym) (1.18.5)\n",
            "Requirement already satisfied: cloudpickle<1.4.0,>=1.2.0 in /usr/local/lib/python3.6/dist-packages (from gym) (1.3.0)\n",
            "Requirement already satisfied: scipy in /usr/local/lib/python3.6/dist-packages (from gym) (1.4.1)\n",
            "Requirement already satisfied: pyglet<=1.5.0,>=1.4.0 in /usr/local/lib/python3.6/dist-packages (from gym) (1.5.0)\n",
            "Requirement already satisfied: future in /usr/local/lib/python3.6/dist-packages (from pyglet<=1.5.0,>=1.4.0->gym) (0.16.0)\n",
            "Reading package lists... Done\n",
            "Building dependency tree       \n",
            "Reading state information... Done\n",
            "The following package was automatically installed and is no longer required:\n",
            "  libnvidia-common-440\n",
            "Use 'apt autoremove' to remove it.\n",
            "Suggested packages:\n",
            "  libgle3\n",
            "The following NEW packages will be installed:\n",
            "  python-opengl\n",
            "0 upgraded, 1 newly installed, 0 to remove and 35 not upgraded.\n",
            "Need to get 496 kB of archives.\n",
            "After this operation, 5,416 kB of additional disk space will be used.\n",
            "Get:1 http://archive.ubuntu.com/ubuntu bionic/universe amd64 python-opengl all 3.1.0+dfsg-1 [496 kB]\n",
            "Fetched 496 kB in 0s (4,718 kB/s)\n",
            "Selecting previously unselected package python-opengl.\n",
            "(Reading database ... 144465 files and directories currently installed.)\n",
            "Preparing to unpack .../python-opengl_3.1.0+dfsg-1_all.deb ...\n",
            "Unpacking python-opengl (3.1.0+dfsg-1) ...\n",
            "Setting up python-opengl (3.1.0+dfsg-1) ...\n",
            "Reading package lists... Done\n",
            "Building dependency tree       \n",
            "Reading state information... Done\n",
            "The following package was automatically installed and is no longer required:\n",
            "  libnvidia-common-440\n",
            "Use 'apt autoremove' to remove it.\n",
            "The following NEW packages will be installed:\n",
            "  xvfb\n",
            "0 upgraded, 1 newly installed, 0 to remove and 35 not upgraded.\n",
            "Need to get 784 kB of archives.\n",
            "After this operation, 2,266 kB of additional disk space will be used.\n",
            "Get:1 http://archive.ubuntu.com/ubuntu bionic-updates/universe amd64 xvfb amd64 2:1.19.6-1ubuntu4.4 [784 kB]\n",
            "Fetched 784 kB in 0s (8,513 kB/s)\n",
            "Selecting previously unselected package xvfb.\n",
            "(Reading database ... 146820 files and directories currently installed.)\n",
            "Preparing to unpack .../xvfb_2%3a1.19.6-1ubuntu4.4_amd64.deb ...\n",
            "Unpacking xvfb (2:1.19.6-1ubuntu4.4) ...\n",
            "Setting up xvfb (2:1.19.6-1ubuntu4.4) ...\n",
            "Processing triggers for man-db (2.8.3-2ubuntu0.1) ...\n"
          ],
          "name": "stdout"
        }
      ]
    },
    {
      "cell_type": "code",
      "metadata": {
        "id": "fCztbGpXZWzr",
        "colab_type": "code",
        "colab": {
          "base_uri": "https://localhost:8080/",
          "height": 197
        },
        "outputId": "623b43d8-dacb-4e1f-dbe4-8c455a0446a9"
      },
      "source": [
        "!pip install gym[atari]"
      ],
      "execution_count": 2,
      "outputs": [
        {
          "output_type": "stream",
          "text": [
            "Requirement already satisfied: gym[atari] in /usr/local/lib/python3.6/dist-packages (0.17.2)\n",
            "Requirement already satisfied: numpy>=1.10.4 in /usr/local/lib/python3.6/dist-packages (from gym[atari]) (1.18.5)\n",
            "Requirement already satisfied: cloudpickle<1.4.0,>=1.2.0 in /usr/local/lib/python3.6/dist-packages (from gym[atari]) (1.3.0)\n",
            "Requirement already satisfied: scipy in /usr/local/lib/python3.6/dist-packages (from gym[atari]) (1.4.1)\n",
            "Requirement already satisfied: pyglet<=1.5.0,>=1.4.0 in /usr/local/lib/python3.6/dist-packages (from gym[atari]) (1.5.0)\n",
            "Requirement already satisfied: atari-py~=0.2.0; extra == \"atari\" in /usr/local/lib/python3.6/dist-packages (from gym[atari]) (0.2.6)\n",
            "Requirement already satisfied: opencv-python; extra == \"atari\" in /usr/local/lib/python3.6/dist-packages (from gym[atari]) (4.1.2.30)\n",
            "Requirement already satisfied: Pillow; extra == \"atari\" in /usr/local/lib/python3.6/dist-packages (from gym[atari]) (7.0.0)\n",
            "Requirement already satisfied: future in /usr/local/lib/python3.6/dist-packages (from pyglet<=1.5.0,>=1.4.0->gym[atari]) (0.16.0)\n",
            "Requirement already satisfied: six in /usr/local/lib/python3.6/dist-packages (from atari-py~=0.2.0; extra == \"atari\"->gym[atari]) (1.12.0)\n"
          ],
          "name": "stdout"
        }
      ]
    },
    {
      "cell_type": "code",
      "metadata": {
        "id": "_9lwvPM5AXzv",
        "colab_type": "code",
        "colab": {
          "base_uri": "https://localhost:8080/",
          "height": 415
        },
        "outputId": "7143af0e-2403-4afe-9de5-f0794ac2249a"
      },
      "source": [
        "!pip install pyvirtualdisplay\n",
        "!pip install piglet"
      ],
      "execution_count": 3,
      "outputs": [
        {
          "output_type": "stream",
          "text": [
            "Collecting pyvirtualdisplay\n",
            "  Downloading https://files.pythonhosted.org/packages/d0/8a/643043cc70791367bee2d19eb20e00ed1a246ac48e5dbe57bbbcc8be40a9/PyVirtualDisplay-1.3.2-py2.py3-none-any.whl\n",
            "Collecting EasyProcess\n",
            "  Downloading https://files.pythonhosted.org/packages/48/3c/75573613641c90c6d094059ac28adb748560d99bd27ee6f80cce398f404e/EasyProcess-0.3-py2.py3-none-any.whl\n",
            "Installing collected packages: EasyProcess, pyvirtualdisplay\n",
            "Successfully installed EasyProcess-0.3 pyvirtualdisplay-1.3.2\n",
            "Collecting piglet\n",
            "  Downloading https://files.pythonhosted.org/packages/11/56/6840e5f45626dc7eb7cd5dff57d11880b3113723b3b7b1fb1fa537855b75/piglet-1.0.0-py2.py3-none-any.whl\n",
            "Collecting piglet-templates\n",
            "\u001b[?25l  Downloading https://files.pythonhosted.org/packages/d0/dc/d628dcdf0b38b8f230e9c2309bfa370d2e3fb95e9e9c260213d10fde91ac/piglet_templates-1.0.0-py3-none-any.whl (63kB)\n",
            "\u001b[K     |████████████████████████████████| 71kB 3.5MB/s \n",
            "\u001b[?25hRequirement already satisfied: attrs in /usr/local/lib/python3.6/dist-packages (from piglet-templates->piglet) (19.3.0)\n",
            "Collecting Parsley\n",
            "\u001b[?25l  Downloading https://files.pythonhosted.org/packages/2b/d6/4fed8d65e28a970e1c5cb33ce9c7e22e3de745e1b2ae37af051ef16aea3b/Parsley-1.3-py2.py3-none-any.whl (88kB)\n",
            "\u001b[K     |████████████████████████████████| 92kB 5.4MB/s \n",
            "\u001b[?25hRequirement already satisfied: astunparse in /usr/local/lib/python3.6/dist-packages (from piglet-templates->piglet) (1.6.3)\n",
            "Requirement already satisfied: markupsafe in /usr/local/lib/python3.6/dist-packages (from piglet-templates->piglet) (1.1.1)\n",
            "Requirement already satisfied: six<2.0,>=1.6.1 in /usr/local/lib/python3.6/dist-packages (from astunparse->piglet-templates->piglet) (1.12.0)\n",
            "Requirement already satisfied: wheel<1.0,>=0.23.0 in /usr/local/lib/python3.6/dist-packages (from astunparse->piglet-templates->piglet) (0.34.2)\n",
            "Installing collected packages: Parsley, piglet-templates, piglet\n",
            "Successfully installed Parsley-1.3 piglet-1.0.0 piglet-templates-1.0.0\n"
          ],
          "name": "stdout"
        }
      ]
    },
    {
      "cell_type": "code",
      "metadata": {
        "id": "ODomeRAIBPm2",
        "colab_type": "code",
        "colab": {
          "base_uri": "https://localhost:8080/",
          "height": 35
        },
        "outputId": "9ba1cd0b-8b85-4044-a319-a4996175da07"
      },
      "source": [
        "from pyvirtualdisplay import Display\n",
        "display = Display(visible=0, size=(1400, 900))\n",
        "display.start()"
      ],
      "execution_count": 4,
      "outputs": [
        {
          "output_type": "execute_result",
          "data": {
            "text/plain": [
              "<pyvirtualdisplay.display.Display at 0x7fae94657358>"
            ]
          },
          "metadata": {
            "tags": []
          },
          "execution_count": 4
        }
      ]
    },
    {
      "cell_type": "code",
      "metadata": {
        "id": "giofRhawBh-k",
        "colab_type": "code",
        "colab": {}
      },
      "source": [
        "# This code creates a virtual display to draw game images on. \n",
        "# If you are running locally, just ignore it\n",
        "import os\n",
        "if type(os.environ.get(\"DISPLAY\")) is not str or len(os.environ.get(\"DISPLAY\"))==0:\n",
        "    !bash ../xvfb start\n",
        "    %env DISPLAY=:1"
      ],
      "execution_count": 5,
      "outputs": []
    },
    {
      "cell_type": "code",
      "metadata": {
        "id": "ymP_nfQ4DECG",
        "colab_type": "code",
        "colab": {}
      },
      "source": [
        "import gym\n",
        "from gym import logger as gymlogger\n",
        "from gym.wrappers import Monitor\n",
        "gymlogger.set_level(40) # error only\n",
        "import tensorflow as tf\n",
        "import numpy as np\n",
        "import random\n",
        "import matplotlib\n",
        "import matplotlib.pyplot as plt\n",
        "%matplotlib inline\n",
        "import math\n",
        "import glob\n",
        "import io\n",
        "import base64\n",
        "from IPython.display import HTML\n",
        "\n",
        "from IPython import display as ipythondisplay"
      ],
      "execution_count": 6,
      "outputs": []
    },
    {
      "cell_type": "code",
      "metadata": {
        "id": "jLKB31NlDLXh",
        "colab_type": "code",
        "colab": {}
      },
      "source": [
        "\n",
        "\n",
        "def show_video():\n",
        "  mp4list = glob.glob('video/*.mp4')\n",
        "  if len(mp4list) > 0:\n",
        "    mp4 = mp4list[0]\n",
        "    video = io.open(mp4, 'r+b').read()\n",
        "    encoded = base64.b64encode(video)\n",
        "    ipythondisplay.display(HTML(data='''<video alt=\"test\" autoplay \n",
        "                loop controls style=\"height: 400px;\">\n",
        "                <source src=\"data:video/mp4;base64,{0}\" type=\"video/mp4\" />\n",
        "             </video>'''.format(encoded.decode('ascii'))))\n",
        "  else: \n",
        "    print(\"Could not find video\")\n",
        "    \n",
        "\n",
        "def wrap_env(env):\n",
        "  env = Monitor(env, './video', force=True)\n",
        "  return env"
      ],
      "execution_count": 7,
      "outputs": []
    },
    {
      "cell_type": "code",
      "metadata": {
        "id": "dMcAJxAiFW-c",
        "colab_type": "code",
        "colab": {
          "base_uri": "https://localhost:8080/",
          "height": 143
        },
        "outputId": "4c850aa2-6dd4-46ee-b65b-ecac768f01a9"
      },
      "source": [
        "import gym\n",
        "env = gym.make('CartPole-v0')\n",
        "env = wrap_env(env) \n",
        "\n",
        "print('observation space:', env.observation_space)\n",
        "print('action space:', env.action_space)\n",
        "\n",
        "obs = env.reset()\n",
        "#env.render()\n",
        "\n",
        "print('initial observation:', obs)\n",
        "\n",
        "action = env.action_space.sample()  # take a random action\n",
        "\n",
        "obs, r, done, info = env.step(action)\n",
        "print('next observation:', obs)\n",
        "print('reward:', r)\n",
        "print('done:', done)\n",
        "print('info:', info)"
      ],
      "execution_count": 8,
      "outputs": [
        {
          "output_type": "stream",
          "text": [
            "observation space: Box(4,)\n",
            "action space: Discrete(2)\n",
            "initial observation: [ 0.04159083 -0.01932352 -0.01503826 -0.01879591]\n",
            "next observation: [ 0.04120436 -0.21422661 -0.01541418  0.26910459]\n",
            "reward: 1.0\n",
            "done: False\n",
            "info: {}\n"
          ],
          "name": "stdout"
        }
      ]
    },
    {
      "cell_type": "code",
      "metadata": {
        "id": "3NmweDmX7Tm2",
        "colab_type": "code",
        "colab": {
          "base_uri": "https://localhost:8080/",
          "height": 1000
        },
        "outputId": "351f1c18-50fb-406b-8360-5c23a7ba32f0"
      },
      "source": [
        "import gym\n",
        "env = gym.make('CartPole-v0')\n",
        "env = wrap_env(env)  # defined before for rendering online\n",
        "\n",
        "observation = env.reset()\n",
        "    \n",
        "while True:\n",
        "  env.render()\n",
        "  \n",
        "  # your agent goes here\n",
        "  action = env.action_space.sample()   # take a random action\n",
        "  observation, reward, done, info = env.step(action) \n",
        "  print(reward)\n",
        "   \n",
        "  if done: \n",
        "    break;\n",
        "            \n",
        "env.close()\n",
        "show_video()"
      ],
      "execution_count": 9,
      "outputs": [
        {
          "output_type": "stream",
          "text": [
            "1.0\n",
            "1.0\n",
            "1.0\n",
            "1.0\n",
            "1.0\n",
            "1.0\n",
            "1.0\n",
            "1.0\n",
            "1.0\n",
            "1.0\n",
            "1.0\n",
            "1.0\n",
            "1.0\n",
            "1.0\n",
            "1.0\n",
            "1.0\n",
            "1.0\n",
            "1.0\n",
            "1.0\n",
            "1.0\n",
            "1.0\n",
            "1.0\n",
            "1.0\n",
            "1.0\n",
            "1.0\n",
            "1.0\n",
            "1.0\n",
            "1.0\n",
            "1.0\n",
            "1.0\n",
            "1.0\n",
            "1.0\n",
            "1.0\n"
          ],
          "name": "stdout"
        },
        {
          "output_type": "display_data",
          "data": {
            "text/html": [
              "<video alt=\"test\" autoplay \n",
              "                loop controls style=\"height: 400px;\">\n",
              "                <source src=\"data:video/mp4;base64,AAAAIGZ0eXBpc29tAAACAGlzb21pc28yYXZjMW1wNDEAAAAIZnJlZQAAEDhtZGF0AAACrgYF//+q3EXpvebZSLeWLNgg2SPu73gyNjQgLSBjb3JlIDE1MiByMjg1NCBlOWE1OTAzIC0gSC4yNjQvTVBFRy00IEFWQyBjb2RlYyAtIENvcHlsZWZ0IDIwMDMtMjAxNyAtIGh0dHA6Ly93d3cudmlkZW9sYW4ub3JnL3gyNjQuaHRtbCAtIG9wdGlvbnM6IGNhYmFjPTEgcmVmPTMgZGVibG9jaz0xOjA6MCBhbmFseXNlPTB4MzoweDExMyBtZT1oZXggc3VibWU9NyBwc3k9MSBwc3lfcmQ9MS4wMDowLjAwIG1peGVkX3JlZj0xIG1lX3JhbmdlPTE2IGNocm9tYV9tZT0xIHRyZWxsaXM9MSA4eDhkY3Q9MSBjcW09MCBkZWFkem9uZT0yMSwxMSBmYXN0X3Bza2lwPTEgY2hyb21hX3FwX29mZnNldD0tMiB0aHJlYWRzPTMgbG9va2FoZWFkX3RocmVhZHM9MSBzbGljZWRfdGhyZWFkcz0wIG5yPTAgZGVjaW1hdGU9MSBpbnRlcmxhY2VkPTAgYmx1cmF5X2NvbXBhdD0wIGNvbnN0cmFpbmVkX2ludHJhPTAgYmZyYW1lcz0zIGJfcHlyYW1pZD0yIGJfYWRhcHQ9MSBiX2JpYXM9MCBkaXJlY3Q9MSB3ZWlnaHRiPTEgb3Blbl9nb3A9MCB3ZWlnaHRwPTIga2V5aW50PTI1MCBrZXlpbnRfbWluPTI1IHNjZW5lY3V0PTQwIGludHJhX3JlZnJlc2g9MCByY19sb29rYWhlYWQ9NDAgcmM9Y3JmIG1idHJlZT0xIGNyZj0yMy4wIHFjb21wPTAuNjAgcXBtaW49MCBxcG1heD02OSBxcHN0ZXA9NCBpcF9yYXRpbz0xLjQwIGFxPTE6MS4wMACAAAAB6WWIhAAz//727L4FNf2f0JcRLMXaSnA+KqSAgHc0wAAAAwAAAwAAFgn0I7DkqgN3QAAAHGAFBCwCPCVC2EhIBrPjGV/gdYwAQ8GZ9v+PmMSCiRxYGLkDg/lXkKWlvwAqtptOTqt0Zkvu+s8TogED1AjqnI75jq2wplLKNQwJjzpLSqyhkv+DWJgfzbwAFaWqotePlBEsyYMQopJp9fkODs1NTjafiJ5GAA3LPFATWRPaeRfEkfCuaAdZqqaEMq/iNqNgIc/xeCeRLxgHBB1x9wRfJZPjTAEwRiqUANzYgWQlmTtcXOjpwRnYfXrTzjfL/nIeWlI3UEkePZ0VkwweF3FWAWxzwBX1l1ttkao+uSUlXlBI49O6dlgbyCUD/qM0MkpCk68czCyGQxqee+x27gGBal5Z965nObTe/gGwaXFkGxrtpzj2McPQuTGaNYXuixrXNvbUtKapw7PsfVkt7eRzmcN+GyaFdOW+Y9xcikPONVb1WEWW1wcdBoSwGQuJjgvBIHUxL/wbOuIHEnTU8XCq6QD7VIrcnbN+Jj1Cp0ETBh2Yu3mCOziZxCphxSf2euAAZ4bbfMwb9kOVyO+pBwd6/Z3HIlZWs439x5m/89ZCbYzUw8i9auT0QfjsiN9oAAADAAADAACqgQAAAHNBmiRsQz/+nhAAAAmryRJS5Jo94wCokNmM5JkgS49v7J4xP/K0FXUi5sknRqLgRF8vxbzuSlsDGhl7HYsMn0DmuIIC+sR018HleAa4cOPqNSUOE2fSPB+a7Cp+zv4pJQAAAwAAS7nbAt0JaalPD/c/t2ScAAAATEGeQniEfwAAFrNFreo6O8qEtkgSLsZVxhfwCBcgWz8+haOL8WJlhwAsiJkPrAZVH/46ZSuCD7CFbJWtAbknaAAAAwBcc1cgS1wgI+EAAAAsAZ5hdEf/AAAjwxd3CU4S1Lwzbg0BVspvQDwoX1uzcAAAAwAA+NUM1y9UAs4AAAAyAZ5jakf/AAAjutBIAWEzzaC+iFCZ8zOttKtbGauF6+TfdX2YZRSITgAAQ8NJM68sBZ0AAADMQZpoSahBaJlMCF///oywAABF83O3ihFAHFDd8pTb8ejFTjmXuk2CkpTrj0+vLOOjoeF7V04Sp5b1iJZ/v6WH7mBGHZ17ge/qSSXYFJ2KDGASXx1HCC6a7SIXTjW4pkd6L/hOgkvk7FIJb2gUbX3zDlNIfUxLDaXf6dVhZlJJw5Mja/V3AyLW26A8o6x/3gfSePez0r7gJIRIuVuwm3m4HmUQi07UYnmuUlMO0gwMdW7/bc1krFkTMEmnS5TCZuzQBGyyepxe9Ke3EAmTAAAAQUGehkURLCP/AAAWtTeW3tpo5MXgHyzeXY646tcn8QtHBurAScT3UskAxxACzTaQLN2b1TuJ2XGGvF6HzUWhTJGxAAAAOwGepXRH/wAAI8MXYrP95pxccVFIRiOt0oEgAXQAwcNdmrg3LRT148BKdyRcDjTgY5e/nXCMYgCBrMvBAAAAKwGep2pH/wAAIrI02+7c21TG/fhAlsgzXuawEba4W5bd2hTJDsnUCv6h0m4AAADXQZqsSahBbJlMCF///oywAABGEMccgBZnDrtEi0Ew8nRXONxYHDWt+cSm52O1sJVclBUm6aODbwu/qtNYK6N+GvMoIKR/mX3kKbtOt6cUgZQVqG5uZlDEr3O1unL0fR0YF7/Rga1DZtRoqhiLBFov6JSwS+XjdZ40I++g+oAkAaS3EX1D2BHrxB2cjeD97bT5fzU2XhdyI04D3u6vhBSv8efz88pRqHKkHaz8BnWl5u5hq+c8jsL2rlYNPKBcsv/FvmFBe3O1a1b99A2X/1Fs1jm868qhdtgAAABVQZ7KRRUsI/8AABa7inrhqgCt95ijjgGl7ANJwtwCcrmc3Vb4erfIIFz4LkfqAcnWqcA3sR1Yef709KMPZmL21M8XoD2e03/zH6z0N3MwBaqwMyZrYQAAAEUBnul0R/8AACOr64XmSWZJGFq7KU7xh4KaWfqCqNrJgcAQ5euut/nYIb82EdtC/Kv2nK5VsckEqnl6XZPn5JJrfst1NuAAAAA0AZ7rakf/AAAjvwQmaQ7uBfznLt61GQFZuW1FhIEQSDTBMGTsj6lUvN0du2Qh0eNssdqbcAAAAFhBmvBJqEFsmUwIX//+jLAAAEYRrPdPIgDlGhj4yvxrJI6fCObbjBS5steRapWhT6ow4RzdoK8A0yM1EnWLzWI6u+FUPFThp5dlcnhFIWPlced+s4k42mehAAAAQ0GfDkUVLCP/AAAWvEJmkgBHgwygka/uv6fp0BpGcuGhb9sFhr4dDXIf5KAuinGke5m+/sFK/zkhYUazaLlpEckewYEAAAAkAZ8tdEf/AAAjt/WALzReqedPvf4JTm1e3CMnxb2CB1/vP7yTAAAANQGfL2pH/wAAI7It7rz/nFO1q8FiPvQvaDx0JCzrrmY48fM4c+o3aY6GmaADzamGYRQ0cjtwAAAAakGbMkmoQWyZTBRML//+jLAAABqjq0QLHdSB4V7jJX02uvfTwH/PAm7F45Out3fwGi8K823jkiCVN6PFZqYj7MLWVYCvSU1FAldb2ZH7rCNsMoq7dkntqvYOhdvUlSyQs4eBkhgwYam7cnoAAAArAZ9Rakf/AAANgjEFCLJ0EYeaGcDD0zpoYq6BQMHerKavL/sJ76ooBAFtwQAAAF1Bm1VJ4QpSZTAhf/6MsAAARgHxzjXWMAmkqUIDtks+/eHoH3nsysokziVJwse6lITQDCpF/RZIwKpgmq2ScAsoWUZD+tsvfQ+KIOSP+oriN6vlQ0ivHt7TbtbJ53AAAAAtQZ9zRTRMI/8AABa8Q823FajmkZ1x9+7tFoFbkE689/V5duFxfRZwYw+r7h3oAAAAQgGflGpH/wAAI65dm52tMxdvD/BlFi44VEOiWWcmpLbq9LGNBQqgQAbUAhRJIDvAfdddq926rnWC/M96eRUfJEhlswAAAKtBm5lJqEFomUwIX//+jLAAAEYB8cSJ0B3AzySzq3gCHhxJXBrdzgkBuuf5ds5M4rQpjZachvIRVjk0NAn6ztfvZX2yic8kv5PxWQS0d+0XIe6aK4Dw72xMWUy13rxxVhkBeSd3B03AWy5TbTgUZQvdpINqlG7CqG3vWHzm10hdcZw9L+TQ4+/TRgbh28FLqOTyvODhy14B5H9V1wCEpwKvufdWA2On8ygQFPwAAAA5QZ+3RREsI/8AABak4tblnl+eN/WOh1dxL0gCoPcydCMqLKqWlRkAAllY2ZeXXg0d/5eKaoxJoNtxAAAALgGf1nRH/wAAI6nqZ267yBkT5z7RkWXM/2TBSZgojiUnAkgTdNIB659ZP6JVLJMAAAA9AZ/Yakf/AAAjvwskjv2YUmk/85PWvs0WVtSj67sPQsu4oum9I7AT8qms22OO+YrSgATp5Wn5Q/KUxTstuAAAAJ1Bm91JqEFsmUwIV//+OEAAAQ1O6NCAsAHFnV4R1mFfN/AYZFGGecQiitqiOTgNY/XY/SaI1AgEpS0WQunm9l/hVshmLAPTiAZ2Thgj1TDQ9/oGQxtvaSu36EFZlRg9443wSVt/MRLnwpQwRUfTEHKkvr/og9O9+wUjWpmg3B4tOfqWooKDQEoinOjhSIR7973Tks4TwukWilnfLULBAAAAYkGf+0UVLCP/AAAWbhOM7eMVLwmtX3eLkeMI0o5eW40zjparw0oNiuXjyfkkbT0gHB4pz64pDC2TtA88XOACYU7UHeWqQvTNVtA9xZLoK11BBd2ScXv2V3TLWWYE1fklUNPgAAAASAGeGnRH/wAAIz1va79wF37oVa8p46aj241VrfTF7oKLKuKGgddRr4dmERf9trWzXuOpqRGpAAPa0OMB11wYt/vuZcnBhYITFwAAADEBnhxqR/8AACOZMNvUJKZdpGMKZCZLcMWxxWvVsRwWLzLS73GGnAdJ3f+OXtVqQkLBAAAAj0GaH0moQWyZTBRMJ//98QAAAwKhbOBy0LhdN1jYK7mDWKm1p0wmUJjWXwAIPHwI0rHVk+uMscc12iCTB/qNDodOf+OYlfpuIIMSRskYQSOal4KttqLtNPUqRyrk+LmhLWhQ4v4CLt7Oj0AfKQ2yxzwerl0BJCnOOszZ/9NbfTebqwF+Oz5xUblY3f/SWnngAAAAUAGePmpH/wAAI68qqoARirFYBzUbBLeAClCepotOGvas7kk5fyqRzPMkgVAmEjYNPDxLMoOWa0DmTLwPGqzrHnqTdSkbFDQiRdnwdJqhYN6AAAAAg0GaIUnhClJlMFLH//yEAAAP3cGcrOuwAX7siAQ88Gkj000X/GF1COCNG6iKtDbiK57tP5NlgDa6yOqy8ToRnNJxoXfGUSqZDd3ls5bhlnwsycSsCLWfLPHDA+EES1d1cSf6sxlieTGkUFQJIWBsvqeUPzwoJntnUHWcwfJ+ueLXSSVRAAAAWgGeQGpH/wAAJL7rGMAi1M5Q1tFsmwhwCcY+OrUS+Oh1brHaBsnYWRKGWOZdDZZM5NHhRbdy3a679RIa8ggAP5bSHayCBs9cVhrgosppHFW9vXbaC/ynAi/iwAAABKNtb292AAAAbG12aGQAAAAAAAAAAAAAAAAAAAPoAAACqAABAAABAAAAAAAAAAAAAAAAAQAAAAAAAAAAAAAAAAAAAAEAAAAAAAAAAAAAAAAAAEAAAAAAAAAAAAAAAAAAAAAAAAAAAAAAAAAAAAAAAAACAAADzXRyYWsAAABcdGtoZAAAAAMAAAAAAAAAAAAAAAEAAAAAAAACqAAAAAAAAAAAAAAAAAAAAAAAAQAAAAAAAAAAAAAAAAAAAAEAAAAAAAAAAAAAAAAAAEAAAAACWAAAAZAAAAAAACRlZHRzAAAAHGVsc3QAAAAAAAAAAQAAAqgAAAIAAAEAAAAAA0VtZGlhAAAAIG1kaGQAAAAAAAAAAAAAAAAAADIAAAAiAFXEAAAAAAAtaGRscgAAAAAAAAAAdmlkZQAAAAAAAAAAAAAAAFZpZGVvSGFuZGxlcgAAAALwbWluZgAAABR2bWhkAAAAAQAAAAAAAAAAAAAAJGRpbmYAAAAcZHJlZgAAAAAAAAABAAAADHVybCAAAAABAAACsHN0YmwAAACYc3RzZAAAAAAAAAABAAAAiGF2YzEAAAAAAAAAAQAAAAAAAAAAAAAAAAAAAAACWAGQAEgAAABIAAAAAAAAAAEAAAAAAAAAAAAAAAAAAAAAAAAAAAAAAAAAAAAAAAAAAAAY//8AAAAyYXZjQwFkAB//4QAZZ2QAH6zZQJgz5eEAAAMAAQAAAwBkDxgxlgEABmjr48siwAAAABhzdHRzAAAAAAAAAAEAAAAiAAABAAAAABRzdHNzAAAAAAAAAAEAAAABAAABGGN0dHMAAAAAAAAAIQAAAAEAAAIAAAAAAQAABQAAAAABAAACAAAAAAEAAAAAAAAAAQAAAQAAAAABAAAFAAAAAAEAAAIAAAAAAQAAAAAAAAABAAABAAAAAAEAAAUAAAAAAQAAAgAAAAABAAAAAAAAAAEAAAEAAAAAAQAABQAAAAABAAACAAAAAAEAAAAAAAAAAQAAAQAAAAABAAADAAAAAAEAAAEAAAAAAQAABAAAAAACAAABAAAAAAEAAAUAAAAAAQAAAgAAAAABAAAAAAAAAAEAAAEAAAAAAQAABQAAAAABAAACAAAAAAEAAAAAAAAAAQAAAQAAAAABAAADAAAAAAEAAAEAAAAAAQAAAwAAAAABAAABAAAAABxzdHNjAAAAAAAAAAEAAAABAAAAIgAAAAEAAACcc3RzegAAAAAAAAAAAAAAIgAABJ8AAAB3AAAAUAAAADAAAAA2AAAA0AAAAEUAAAA/AAAALwAAANsAAABZAAAASQAAADgAAABcAAAARwAAACgAAAA5AAAAbgAAAC8AAABhAAAAMQAAAEYAAACvAAAAPQAAADIAAABBAAAAoQAAAGYAAABMAAAANQAAAJMAAABUAAAAhwAAAF4AAAAUc3RjbwAAAAAAAAABAAAAMAAAAGJ1ZHRhAAAAWm1ldGEAAAAAAAAAIWhkbHIAAAAAAAAAAG1kaXJhcHBsAAAAAAAAAAAAAAAALWlsc3QAAAAlqXRvbwAAAB1kYXRhAAAAAQAAAABMYXZmNTcuODMuMTAw\" type=\"video/mp4\" />\n",
              "             </video>"
            ],
            "text/plain": [
              "<IPython.core.display.HTML object>"
            ]
          },
          "metadata": {
            "tags": []
          }
        }
      ]
    },
    {
      "cell_type": "code",
      "metadata": {
        "id": "zaJmW9Kydxq3",
        "colab_type": "code",
        "colab": {
          "base_uri": "https://localhost:8080/",
          "height": 458
        },
        "outputId": "2f69338e-ba52-49fa-a526-6ff5385e238b"
      },
      "source": [
        "import gym\n",
        "\n",
        "env = gym.make('CartPole-v0')\n",
        "env = wrap_env(env)\n",
        "\n",
        "def basic_policy(obs):\n",
        "  angle = obs[2]\n",
        "  return 0 if angle < 0 else 1\n",
        "\n",
        "totals =[]\n",
        "\n",
        "for episode in range(100):\n",
        "  episodes_reward = 0\n",
        "  obs =env.reset()\n",
        "  action = 2\n",
        "  for step in range(100):\n",
        "    action = basic_policy(obs)\n",
        "    env.render()\n",
        "    obs, reward, done, info = env.step(action)\n",
        "    episodes_reward += reward\n",
        "    if done:\n",
        "      totals.append(episodes_reward)\n",
        "      break\n",
        "\n",
        "show_video()\n",
        "print(totals)\n"
      ],
      "execution_count": 10,
      "outputs": [
        {
          "output_type": "display_data",
          "data": {
            "text/html": [
              "<video alt=\"test\" autoplay \n",
              "                loop controls style=\"height: 400px;\">\n",
              "                <source src=\"data:video/mp4;base64,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\" type=\"video/mp4\" />\n",
              "             </video>"
            ],
            "text/plain": [
              "<IPython.core.display.HTML object>"
            ]
          },
          "metadata": {
            "tags": []
          }
        },
        {
          "output_type": "stream",
          "text": [
            "[36.0, 39.0, 25.0, 34.0, 46.0, 59.0, 35.0, 39.0, 35.0, 26.0, 39.0, 58.0, 31.0, 39.0, 45.0, 35.0, 37.0, 44.0, 34.0, 35.0, 51.0, 56.0, 39.0, 26.0, 68.0, 39.0, 55.0, 37.0, 31.0, 49.0, 45.0, 35.0, 31.0, 45.0, 34.0, 36.0, 55.0, 41.0, 37.0, 25.0, 47.0, 39.0, 51.0, 56.0, 51.0, 40.0, 40.0, 40.0, 26.0, 40.0, 51.0, 48.0, 36.0, 25.0, 42.0, 49.0, 25.0, 45.0, 25.0, 45.0, 25.0, 39.0, 36.0, 37.0, 49.0, 46.0, 51.0, 39.0, 35.0, 40.0, 46.0, 56.0, 41.0, 39.0, 24.0, 41.0, 39.0, 51.0, 53.0, 38.0, 36.0, 50.0, 56.0, 51.0, 36.0, 41.0, 38.0, 37.0, 42.0, 40.0, 36.0, 49.0, 44.0, 49.0, 39.0, 55.0, 32.0, 43.0, 41.0, 46.0]\n"
          ],
          "name": "stdout"
        }
      ]
    }
  ]
}